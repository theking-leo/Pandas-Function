{
  "cells": [
    {
      "cell_type": "markdown",
      "metadata": {
        "id": "m1F11KQNKhZk"
      },
      "source": [
        "# Functions"
      ]
    },
    {
      "cell_type": "markdown",
      "metadata": {
        "id": "9uPHy4qZKhZo"
      },
      "source": [
        "## 1.&nbsp; Defining a function:\n",
        "\n",
        "Creating a function is super easy. Just follow these steps:\n",
        "\n",
        "- Start with the `def` statment.\n",
        "- Give your function a name and open parentheses.\n",
        "- Optional: write the names of your function's arguments between the parentheses.\n",
        "- Write the code that performs whatever you want to do between parentheses.\n",
        "\n",
        "Below, we define a function to divide two numbers:"
      ]
    },
    {
      "cell_type": "code",
      "execution_count": 34,
      "metadata": {
        "id": "wrZ5ejWoKhZo"
      },
      "outputs": [],
      "source": [
        "def division_func(numerator, denominator):\n",
        "    res = numerator / denominator\n",
        "    return res"
      ]
    },
    {
      "cell_type": "markdown",
      "metadata": {
        "id": "2Fcpl592KhZp"
      },
      "source": [
        "## 2.&nbsp; Calling the function\n",
        "\n",
        "Unless specified otherwise, arguments are passed in order"
      ]
    },
    {
      "cell_type": "code",
      "execution_count": 35,
      "metadata": {
        "id": "qhAhmko3KhZq",
        "colab": {
          "base_uri": "https://localhost:8080/"
        },
        "outputId": "4039f7b5-0ab9-4499-d2b0-eda6a0968d6a"
      },
      "outputs": [
        {
          "output_type": "execute_result",
          "data": {
            "text/plain": [
              "0.5"
            ]
          },
          "metadata": {},
          "execution_count": 35
        }
      ],
      "source": [
        "division_func(2, 4)"
      ]
    },
    {
      "cell_type": "markdown",
      "metadata": {
        "id": "iIpAkjWjKhZr"
      },
      "source": [
        "You can switch the order of the arguments by being explicit with them:"
      ]
    },
    {
      "cell_type": "code",
      "execution_count": 36,
      "metadata": {
        "id": "5ad_YFZqKhZr",
        "colab": {
          "base_uri": "https://localhost:8080/"
        },
        "outputId": "f55d1a27-869f-4428-8233-dc4576e3bc0e"
      },
      "outputs": [
        {
          "output_type": "execute_result",
          "data": {
            "text/plain": [
              "2.0"
            ]
          },
          "metadata": {},
          "execution_count": 36
        }
      ],
      "source": [
        "division_func(numerator=4,\n",
        "              denominator=2)"
      ]
    },
    {
      "cell_type": "code",
      "execution_count": 37,
      "metadata": {
        "id": "u_PVtIyTKhZs",
        "colab": {
          "base_uri": "https://localhost:8080/"
        },
        "outputId": "0c4bc039-3d79-431a-b8eb-11ed04e7099a"
      },
      "outputs": [
        {
          "output_type": "execute_result",
          "data": {
            "text/plain": [
              "0.5"
            ]
          },
          "metadata": {},
          "execution_count": 37
        }
      ],
      "source": [
        "division_func(denominator=4,\n",
        "              numerator=2)"
      ]
    },
    {
      "cell_type": "code",
      "source": [
        "division_func(4,2)"
      ],
      "metadata": {
        "colab": {
          "base_uri": "https://localhost:8080/"
        },
        "id": "dUgkfhdrD-h2",
        "outputId": "7ea2dbd0-8dd7-485b-fead-15c8ef46a745"
      },
      "execution_count": 38,
      "outputs": [
        {
          "output_type": "execute_result",
          "data": {
            "text/plain": [
              "2.0"
            ]
          },
          "metadata": {},
          "execution_count": 38
        }
      ]
    },
    {
      "cell_type": "markdown",
      "metadata": {
        "id": "3OiLXfStKhZs"
      },
      "source": [
        "It might be ugly, but you can be explicit only with some of the arguments..."
      ]
    },
    {
      "cell_type": "code",
      "execution_count": 39,
      "metadata": {
        "id": "3qa3Dw99KhZt",
        "colab": {
          "base_uri": "https://localhost:8080/"
        },
        "outputId": "d18b1a1e-6c5c-400a-8275-8e89f3a5b0ce"
      },
      "outputs": [
        {
          "output_type": "execute_result",
          "data": {
            "text/plain": [
              "2.0"
            ]
          },
          "metadata": {},
          "execution_count": 39
        }
      ],
      "source": [
        "division_func(4, denominator=2)"
      ]
    },
    {
      "cell_type": "markdown",
      "metadata": {
        "id": "EXliPEymKhZt"
      },
      "source": [
        "Seting a default value for an argument is possible:"
      ]
    },
    {
      "cell_type": "code",
      "execution_count": 40,
      "metadata": {
        "id": "L_X5QkjTKhZt"
      },
      "outputs": [],
      "source": [
        "def division_func(numerator=4, denominator=2):\n",
        "    res = numerator / denominator\n",
        "    return res"
      ]
    },
    {
      "cell_type": "markdown",
      "metadata": {
        "id": "RtQqAP44KhZt"
      },
      "source": [
        "Whenever **all** arguments of a function have default values, you can call it without specifying them:"
      ]
    },
    {
      "cell_type": "code",
      "execution_count": 41,
      "metadata": {
        "id": "6rvCcv1KKhZt",
        "colab": {
          "base_uri": "https://localhost:8080/"
        },
        "outputId": "ebb26745-2b74-48bb-a77d-e5030aeee4b3"
      },
      "outputs": [
        {
          "output_type": "execute_result",
          "data": {
            "text/plain": [
              "2.0"
            ]
          },
          "metadata": {},
          "execution_count": 41
        }
      ],
      "source": [
        "division_func()"
      ]
    },
    {
      "cell_type": "markdown",
      "metadata": {
        "id": "EEXCDtiCKhZu"
      },
      "source": [
        "Arguments are not restricted to an object type (we never declare the types of variables, arguments or return values)"
      ]
    },
    {
      "cell_type": "code",
      "execution_count": 42,
      "metadata": {
        "id": "6haAmr_QKhZu"
      },
      "outputs": [],
      "source": [
        "def addition_func(element1=4, element2=2):\n",
        "    res = element1 + element2\n",
        "    return res"
      ]
    },
    {
      "cell_type": "code",
      "execution_count": 43,
      "metadata": {
        "id": "NXQ_-qkvKhZu",
        "colab": {
          "base_uri": "https://localhost:8080/"
        },
        "outputId": "82ee3b8b-ca2d-418a-ea39-17a2b2c7e1f4"
      },
      "outputs": [
        {
          "output_type": "execute_result",
          "data": {
            "text/plain": [
              "6"
            ]
          },
          "metadata": {},
          "execution_count": 43
        }
      ],
      "source": [
        "addition_func(2, 4)"
      ]
    },
    {
      "cell_type": "code",
      "execution_count": 44,
      "metadata": {
        "id": "_p1kNUH8KhZu",
        "colab": {
          "base_uri": "https://localhost:8080/",
          "height": 35
        },
        "outputId": "7b8fada4-7e06-48e0-957a-5bf89db53cd7"
      },
      "outputs": [
        {
          "output_type": "execute_result",
          "data": {
            "text/plain": [
              "'hellothere'"
            ],
            "application/vnd.google.colaboratory.intrinsic+json": {
              "type": "string"
            }
          },
          "metadata": {},
          "execution_count": 44
        }
      ],
      "source": [
        "addition_func(\"hello\", \"there\")"
      ]
    },
    {
      "cell_type": "markdown",
      "metadata": {
        "id": "7Xemr03MKhZu"
      },
      "source": [
        "What if we really want to constrain this `addition_func` to only admit integers?"
      ]
    },
    {
      "cell_type": "markdown",
      "metadata": {
        "id": "Gbc_le89KhZv"
      },
      "source": [
        "Option 1: try to coerce inputs to integers:"
      ]
    },
    {
      "cell_type": "code",
      "execution_count": 45,
      "metadata": {
        "id": "nU0zcPrlKhZv"
      },
      "outputs": [],
      "source": [
        "def addition_func(element1=4, element2=2):\n",
        "    return int(element1)+int(element2)"
      ]
    },
    {
      "cell_type": "markdown",
      "metadata": {
        "id": "bPSv7X9VKhZv"
      },
      "source": [
        "Option 2: check for the `type` of the inputs:"
      ]
    },
    {
      "cell_type": "code",
      "execution_count": 46,
      "metadata": {
        "id": "LSc8IBLrKhZv",
        "colab": {
          "base_uri": "https://localhost:8080/"
        },
        "outputId": "d072be49-20d6-4b47-94f1-5ff9c5a8fbec"
      },
      "outputs": [
        {
          "output_type": "stream",
          "name": "stdout",
          "text": [
            "16\n",
            "Are you out of your mind? Only integers allowed!\n"
          ]
        }
      ],
      "source": [
        "def product_integers(x, y):\n",
        "    if type(x) == int and type(y) == int:\n",
        "            return(x*y)\n",
        "    else:\n",
        "        return \"Are you out of your mind? Only integers allowed!\"\n",
        "\n",
        "print(product_integers(8, 2))\n",
        "print(product_integers(4, \"a\"))"
      ]
    },
    {
      "cell_type": "markdown",
      "metadata": {
        "id": "JxC_91r8KhZv"
      },
      "source": [
        "Testing for types is not a common practice. Embrace python's flexibility!"
      ]
    },
    {
      "cell_type": "markdown",
      "metadata": {
        "id": "LhCesmQtKhZv"
      },
      "source": [
        "The `return` statement allows us to store the output of the function in a variable:"
      ]
    },
    {
      "cell_type": "code",
      "execution_count": 47,
      "metadata": {
        "id": "YoMMy1k-KhZv"
      },
      "outputs": [],
      "source": [
        "def addition_func(element1=4, element2=2):\n",
        "    res = element1 + element2\n",
        "    return res"
      ]
    },
    {
      "cell_type": "code",
      "execution_count": 48,
      "metadata": {
        "id": "xmUa0ed_KhZw"
      },
      "outputs": [],
      "source": [
        "a = addition_func(2,3)"
      ]
    },
    {
      "cell_type": "code",
      "execution_count": 49,
      "metadata": {
        "id": "joI6jYQNKhZw",
        "colab": {
          "base_uri": "https://localhost:8080/"
        },
        "outputId": "7e3042f1-78b6-4f35-f35f-a0bc46a60e43"
      },
      "outputs": [
        {
          "output_type": "execute_result",
          "data": {
            "text/plain": [
              "5"
            ]
          },
          "metadata": {},
          "execution_count": 49
        }
      ],
      "source": [
        "a"
      ]
    },
    {
      "cell_type": "markdown",
      "metadata": {
        "id": "EUFzqfEFKhZw"
      },
      "source": [
        "What if we use print instead of return?"
      ]
    },
    {
      "cell_type": "code",
      "execution_count": 50,
      "metadata": {
        "id": "Vr095lw4KhZw"
      },
      "outputs": [],
      "source": [
        "def addition_func(element1=4, element2=2):\n",
        "    res = element1 + element2\n",
        "    print(res)"
      ]
    },
    {
      "cell_type": "markdown",
      "metadata": {
        "id": "DQXcRO_-KhZw"
      },
      "source": [
        "It may look like the behaviour is the same... But the output gets printed when we are just trying to assign it to a variable:"
      ]
    },
    {
      "cell_type": "code",
      "execution_count": 51,
      "metadata": {
        "id": "KJvkF3iVKhZw",
        "colab": {
          "base_uri": "https://localhost:8080/"
        },
        "outputId": "7e363cb1-334b-4273-b6fb-1e84fe859926"
      },
      "outputs": [
        {
          "output_type": "stream",
          "name": "stdout",
          "text": [
            "9\n"
          ]
        }
      ],
      "source": [
        "b = addition_func(1,8)"
      ]
    },
    {
      "cell_type": "markdown",
      "metadata": {
        "id": "9V_3oOWwKhZw"
      },
      "source": [
        "And the variable has not actually stored the output:"
      ]
    },
    {
      "cell_type": "code",
      "execution_count": 52,
      "metadata": {
        "id": "yKvoNcd_KhZx"
      },
      "outputs": [],
      "source": [
        "b"
      ]
    },
    {
      "cell_type": "markdown",
      "metadata": {
        "id": "6j1pAfspKhZx"
      },
      "source": [
        "So, in general, use `return` in functions instead of `print()`!"
      ]
    },
    {
      "cell_type": "markdown",
      "metadata": {
        "id": "kQ-KBaxhKhZx"
      },
      "source": [
        "## 3.&nbsp; Exercises:"
      ]
    },
    {
      "cell_type": "markdown",
      "metadata": {
        "id": "Y6OVhUabKhZx"
      },
      "source": [
        "### Exercise 1:\n",
        "\n",
        "Build a function to filp coins. It should take as an argument how many coins to flip, and ouptut how many times the coin landed on heads.\n",
        "\n",
        "Hint: use the module `random` inside of your function!"
      ]
    },
    {
      "cell_type": "code",
      "execution_count": 53,
      "metadata": {
        "id": "yOjFFzchKhZx",
        "colab": {
          "base_uri": "https://localhost:8080/"
        },
        "outputId": "c18b682f-2f77-4da8-a6da-203b6c231618"
      },
      "outputs": [
        {
          "output_type": "stream",
          "name": "stdout",
          "text": [
            "I got 2 times head out of 5 coin flips\n",
            "I got 3 times head out of 10 coin flips\n"
          ]
        }
      ],
      "source": [
        "import random as rd\n",
        "def flip_coin(flips = 10):\n",
        "    heads = 0\n",
        "    for flip in range(flips):\n",
        "        if rd.random() < 0.5: heads += 1\n",
        "    return heads\n",
        "\n",
        "my_flips = 5\n",
        "\n",
        "print(f\"I got {flip_coin(my_flips)} times head out of {my_flips} coin flips\")\n",
        "print(f\"I got {flip_coin()} times head out of 10 coin flips\")"
      ]
    },
    {
      "cell_type": "code",
      "source": [
        "import random\n",
        "\n",
        "def flipcoin(count_flip):\n",
        "  heads = 0\n",
        "  for i in range(count_flip):\n",
        "    head_number = random.randrange(0, 2)\n",
        "    if head_number == 1:\n",
        "      heads += 1\n",
        "  return heads\n",
        "\n",
        "\n",
        "count_flip = int(input(\"How many times would you like to flip a coin? \\n\"))\n",
        "print(f\"Number of heads: {flipcoin(count_flip)}\")"
      ],
      "metadata": {
        "colab": {
          "base_uri": "https://localhost:8080/"
        },
        "id": "JlCUKf9MShvz",
        "outputId": "3950d2b6-36ba-4e3b-9631-a19f8a6beafc"
      },
      "execution_count": 54,
      "outputs": [
        {
          "output_type": "stream",
          "name": "stdout",
          "text": [
            "How many times would you like to flip a coin? \n",
            "6\n",
            "Number of heads: 4\n"
          ]
        }
      ]
    },
    {
      "cell_type": "code",
      "source": [
        "def flip_coins_result(a):\n",
        "    result = 0\n",
        "    for i in range(0,a+1):\n",
        "        result += random.randint(0,1)\n",
        "    return result\n",
        "\n",
        "coins_qty = int(input('How many coins? '))\n",
        "flip_coins_result(a)"
      ],
      "metadata": {
        "colab": {
          "base_uri": "https://localhost:8080/"
        },
        "id": "8DPrDNBuSpx7",
        "outputId": "10714f9f-a361-4663-df94-f41081342203"
      },
      "execution_count": 55,
      "outputs": [
        {
          "name": "stdout",
          "output_type": "stream",
          "text": [
            "How many coins? 3\n"
          ]
        },
        {
          "output_type": "execute_result",
          "data": {
            "text/plain": [
              "3"
            ]
          },
          "metadata": {},
          "execution_count": 55
        }
      ]
    },
    {
      "cell_type": "markdown",
      "metadata": {
        "id": "JHbhGAAgKhZx"
      },
      "source": [
        "### Exercise 2:\n",
        "\n",
        "Build a function that takes as input a string and returns it reversed\n",
        "\n",
        "Extra challenge: try not to use any built in Python string method!"
      ]
    },
    {
      "cell_type": "code",
      "execution_count": 56,
      "metadata": {
        "id": "CyVfhIvuKhZx"
      },
      "outputs": [],
      "source": [
        "def string_reverse(string):\n",
        "    out = \"\"\n",
        "    len = 0\n",
        "    pos = -1\n",
        "    for i in string: len += 1\n",
        "    while(pos >= len*(-1)):\n",
        "            out += string[pos]\n",
        "            pos -= 1\n",
        "    return out"
      ]
    },
    {
      "cell_type": "code",
      "source": [
        "def string_reverse(string):\n",
        "  reversed_word = \"\"\n",
        "  index = -1\n",
        "  for l in string:\n",
        "    reversed_word += string[index]\n",
        "    index -= 1\n",
        "  return reversed_word\n",
        "\n",
        "word = input(\"Give me a word \\n\")\n",
        "print(string_reverse(word))"
      ],
      "metadata": {
        "colab": {
          "base_uri": "https://localhost:8080/"
        },
        "id": "6R70TvHdTGeH",
        "outputId": "86f97274-232d-4360-fda4-38b52f23edf2"
      },
      "execution_count": 57,
      "outputs": [
        {
          "output_type": "stream",
          "name": "stdout",
          "text": [
            "Give me a word \n",
            "boot\n",
            "toob\n"
          ]
        }
      ]
    },
    {
      "cell_type": "code",
      "source": [
        "def reverse_string(input_string):\n",
        "    return input_string[::-1]\n",
        "my_string = \"Abracadabra\"\n",
        "reversed_string = reverse_string(my_string)\n",
        "print(reversed_string)"
      ],
      "metadata": {
        "colab": {
          "base_uri": "https://localhost:8080/"
        },
        "id": "RZlhV_QxTOBt",
        "outputId": "b2022457-1a4e-440d-89ac-fbf573f39712"
      },
      "execution_count": 58,
      "outputs": [
        {
          "output_type": "stream",
          "name": "stdout",
          "text": [
            "arbadacarbA\n"
          ]
        }
      ]
    },
    {
      "cell_type": "code",
      "source": [
        "def reverse_string(input_str):\n",
        "    reversed_str = \"\"\n",
        "\n",
        "    for char in input_str:\n",
        "        reversed_str = char + reversed_str\n",
        "\n",
        "    return reversed_str"
      ],
      "metadata": {
        "id": "1qKplj8PTaV5"
      },
      "execution_count": 59,
      "outputs": []
    },
    {
      "cell_type": "code",
      "source": [
        "def string_reverse():\n",
        "\tstr_rev = \"\"\n",
        "\tfor i in string:\n",
        "\t\tstr_rev = i + str_rev\n",
        "\treturn str_rev\n",
        "\n",
        "\n",
        "string = input(\"Please enter a string: \")\n",
        "print(f\"The original string is: {string}\")\n",
        "print(f\"The reversed string is: {string_reverse()}\")"
      ],
      "metadata": {
        "colab": {
          "base_uri": "https://localhost:8080/"
        },
        "id": "IjsIXPotTe2h",
        "outputId": "f40ef074-d204-4811-dbff-005e2d25ea44"
      },
      "execution_count": 60,
      "outputs": [
        {
          "output_type": "stream",
          "name": "stdout",
          "text": [
            "Please enter a string: man\n",
            "The original string is: man\n",
            "The reversed string is: nam\n"
          ]
        }
      ]
    },
    {
      "cell_type": "code",
      "source": [
        "def string_reverse(input_string):\n",
        "    string_reverse = \"\"\n",
        "    for i in range(len(input_string) - 1, -1, -1):\n",
        "        string_reverse += input_string[i]\n",
        "    return string_reverse"
      ],
      "metadata": {
        "id": "NEqJ-ViyTjav"
      },
      "execution_count": 61,
      "outputs": []
    },
    {
      "cell_type": "markdown",
      "metadata": {
        "id": "YBu20Uc5KhZx"
      },
      "source": [
        "Test your function:"
      ]
    },
    {
      "cell_type": "code",
      "execution_count": 62,
      "metadata": {
        "id": "aCvx-pxxKhZx",
        "colab": {
          "base_uri": "https://localhost:8080/",
          "height": 35
        },
        "outputId": "bc434023-ea95-47ff-96e0-ae3bce470122"
      },
      "outputs": [
        {
          "output_type": "execute_result",
          "data": {
            "text/plain": [
              "'arbadacarbA'"
            ],
            "application/vnd.google.colaboratory.intrinsic+json": {
              "type": "string"
            }
          },
          "metadata": {},
          "execution_count": 62
        }
      ],
      "source": [
        "string_reverse(\"Abracadabra\")\n",
        "\n",
        "# expected output: 'arbadacarbA'"
      ]
    },
    {
      "cell_type": "markdown",
      "metadata": {
        "id": "58sWtafMKhZy"
      },
      "source": [
        "### Exercise 3:\n",
        "\n",
        "Build a function to return the intersection of two sets\n",
        "\n"
      ]
    },
    {
      "cell_type": "code",
      "execution_count": 63,
      "metadata": {
        "id": "nkopgxA4KhZy"
      },
      "outputs": [],
      "source": [
        "# Build a function to return the intersection of two sets\n",
        "# Code here:\n"
      ]
    },
    {
      "cell_type": "code",
      "source": [
        "def intersection(small_primes, fibonacci):\n",
        "    return set(small_primes).intersection(fibonacci)\n",
        "\n",
        "small_primes = {1, 2, 3, 5, 7, 11, 13}\n",
        "fibonacci = {0, 1, 1, 2, 3, 5, 8, 13}  # Fix the variable name here\n",
        "result = intersection(small_primes, fibonacci)\n",
        "print(result)"
      ],
      "metadata": {
        "colab": {
          "base_uri": "https://localhost:8080/"
        },
        "id": "1LutBVw0TvwB",
        "outputId": "d19c9072-f425-485e-b74f-8f52efd0536c"
      },
      "execution_count": 64,
      "outputs": [
        {
          "output_type": "stream",
          "name": "stdout",
          "text": [
            "{1, 2, 3, 5, 13}\n"
          ]
        }
      ]
    },
    {
      "cell_type": "code",
      "source": [
        "def intersect(set1, set2):\n",
        "    out_li = []\n",
        "    for i in set1:\n",
        "        for j in set2:\n",
        "            if(i == j): out_li.append(i)\n",
        "    return set(out_li)"
      ],
      "metadata": {
        "id": "k1bD0I_BT1Xu"
      },
      "execution_count": 33,
      "outputs": []
    },
    {
      "cell_type": "code",
      "source": [
        "def intersect(seq1, seq2):\n",
        "    set1 = set(seq1)\n",
        "    set2 = set(seq2)\n",
        "    return set1 & set2"
      ],
      "metadata": {
        "id": "jfnfFuhgUG59"
      },
      "execution_count": 65,
      "outputs": []
    },
    {
      "cell_type": "code",
      "source": [
        "def intersect(set1, set2):\n",
        "    intersection = set()\n",
        "\n",
        "    for item in set1:\n",
        "        if item in set2:\n",
        "            intersection.add(item)\n",
        "    return intersection"
      ],
      "metadata": {
        "id": "hMx-uhIlUO2v"
      },
      "execution_count": 66,
      "outputs": []
    },
    {
      "cell_type": "code",
      "execution_count": 67,
      "metadata": {
        "id": "5nEi6xnNKhZy",
        "colab": {
          "base_uri": "https://localhost:8080/"
        },
        "outputId": "089207a2-5b58-47fa-d09c-da5502b3c67c"
      },
      "outputs": [
        {
          "output_type": "execute_result",
          "data": {
            "text/plain": [
              "{1, 2, 3, 5, 13}"
            ]
          },
          "metadata": {},
          "execution_count": 67
        }
      ],
      "source": [
        "# test your function\n",
        "small_primes = (1, 2, 3, 5, 7, 11, 13)\n",
        "fibonacci = [0, 1, 1, 2, 3, 5, 8, 13]\n",
        "\n",
        "intersect(small_primes, fibonacci)\n",
        "\n",
        "# expected output: {1, 2, 3, 5, 13}"
      ]
    },
    {
      "cell_type": "code",
      "execution_count": 68,
      "metadata": {
        "id": "6Ffq6J8uKhZy",
        "colab": {
          "base_uri": "https://localhost:8080/"
        },
        "outputId": "d7cf2899-4fbf-4ceb-a1fe-0c5ede2e8cfa"
      },
      "outputs": [
        {
          "output_type": "execute_result",
          "data": {
            "text/plain": [
              "{'a', 'e', 'l', 'n', 'p'}"
            ]
          },
          "metadata": {},
          "execution_count": 68
        }
      ],
      "source": [
        "# Should work with strings as well\n",
        "plane = \"plane\"\n",
        "planet = \"planet\"\n",
        "\n",
        "intersect(plane, planet)\n",
        "# expected output: {\"a\", \"e\", \"l\", \"n\", \"p\"}"
      ]
    },
    {
      "cell_type": "markdown",
      "metadata": {
        "id": "liOTrexHKhZy"
      },
      "source": [
        "\n",
        "You can save a notebook as Python script (a file with the `.py` extension). Then, it automatically becomes a Python \"module\". These modules can be imported the same way you import `pandas`, and then you can access any functions within them.\n",
        "\n",
        "This allows you to keep your functions in a clean and isolated place, where they will be less prone to getting \"corrupted\". Your notebook will also be cleaner without all the function definitions.\n",
        "\n",
        "Using modules is easier when working locally (with Jupyter Lab, for example). If your `.py` file and your notebook are in the same folder, you can simply call `import my-module-name` from the notebook. With Google Colab, there's an extra step involved. Follow the instructions in [this video](https://www.youtube.com/watch?v=YP6APKLRf58).\n",
        "\n",
        "**Exercise:** Convert the function from the previous exercise into a module and import it from another notebook."
      ]
    },
    {
      "cell_type": "markdown",
      "metadata": {
        "id": "AfD9in0JKhZy"
      },
      "source": [
        "\n",
        "\n",
        "Let's look again at the `addition function`:"
      ]
    },
    {
      "cell_type": "code",
      "execution_count": 69,
      "metadata": {
        "id": "zEpiyQxKKhZy"
      },
      "outputs": [],
      "source": [
        "def addition_func(element1=4, element2=2):\n",
        "    res = element1 + element2\n",
        "    return res"
      ]
    },
    {
      "cell_type": "markdown",
      "metadata": {
        "id": "SUAowLTbKhZz"
      },
      "source": [
        "#### where's the variable `res`?\n",
        "\n",
        "It is a local variable: a name that is visible only to code inside the function def and that exists only while the function runs.\n",
        "\n",
        "When you use a name in a program, Python creates, changes, or looks up the name in what is known as a namespace —a place where names live. When we talk about the search for a name’s value in relation to code, the term scope refers to a namespace: that is, the location of a name’s assignment in your source code determines the scope of the name’s visibility to your code.\n",
        "\n",
        "The place where you assign a name in your source code determines the namespace it will live in, and hence its scope of visibility.\n",
        "\n",
        "- Names assigned inside a def can only be seen by the code within that def. You cannot even refer to such names from outside the function.\n",
        "\n",
        "- Names assigned inside a def do not clash with variables outside the def, even if the same names are used elsewhere. A name X assigned outside a given def (i.e., in a different def or at the top level of a module file) is a completely different variable from a name X assigned inside that def."
      ]
    },
    {
      "cell_type": "code",
      "execution_count": 70,
      "metadata": {
        "id": "Uofb9BxuKhZz"
      },
      "outputs": [],
      "source": [
        "x = 1990\n",
        "\n",
        "def func():\n",
        "    x = 2020\n",
        "    print(x)"
      ]
    },
    {
      "cell_type": "code",
      "execution_count": 71,
      "metadata": {
        "id": "8MWEcjOFKhZz",
        "colab": {
          "base_uri": "https://localhost:8080/"
        },
        "outputId": "d58cb32d-a331-48a8-c287-6f0f2acd6d83"
      },
      "outputs": [
        {
          "output_type": "stream",
          "name": "stdout",
          "text": [
            "2020\n"
          ]
        }
      ],
      "source": [
        "func()"
      ]
    },
    {
      "cell_type": "code",
      "execution_count": 72,
      "metadata": {
        "id": "oIGgQH4zKhZz",
        "colab": {
          "base_uri": "https://localhost:8080/"
        },
        "outputId": "2e4d8abb-e6c8-4e89-cc37-954902ca84e8"
      },
      "outputs": [
        {
          "output_type": "execute_result",
          "data": {
            "text/plain": [
              "1990"
            ]
          },
          "metadata": {},
          "execution_count": 72
        }
      ],
      "source": [
        "x"
      ]
    },
    {
      "cell_type": "markdown",
      "metadata": {
        "id": "941hAmYzKhZ0"
      },
      "source": [
        "- If you need to assign a name that lives at the top level of the module enclosing the function, you can do so by declaring it in a global statement inside the function.\n",
        "\n",
        "- If you need to assign a name that lives in an enclosing def, as of Python 3.X you can do so by declaring it in a nonlocal statement."
      ]
    },
    {
      "cell_type": "markdown",
      "metadata": {
        "id": "D3x5_79tKhZ0"
      },
      "source": [
        "Type of assignment within a function classifies a name as local. This includes = statements, module names in import, function names in def, function argument names, and so on. If you assign a name in any way within a def, it will become a local to that function by default.\n",
        "\n",
        "In-place changes to objects do not classify names as locals; only actual name assignments do.\n",
        "\n",
        "For instance, if the name L is assigned to a list at the top level of a module, a statement L = X within a function will classify L as a local, but L.append(X) will not. In the latter case, we are changing the list object that L references, not L itself—L is found in the global scope as usual, and Python happily modifies it without requiring a global (or nonlocal) declaration. As usual, it helps to keep the distinction between names and objects clear: changing an object is not an assignment to a name."
      ]
    },
    {
      "cell_type": "code",
      "execution_count": 73,
      "metadata": {
        "id": "tEjCdIPJKhZ0",
        "colab": {
          "base_uri": "https://localhost:8080/"
        },
        "outputId": "b43f0894-0743-43f7-cd55-a044435b8e6c"
      },
      "outputs": [
        {
          "output_type": "execute_result",
          "data": {
            "text/plain": [
              "[1, 2, 3, 4]"
            ]
          },
          "metadata": {},
          "execution_count": 73
        }
      ],
      "source": [
        "L = [1, 2, 3]\n",
        "\n",
        "def append4():\n",
        "    L.append(4)\n",
        "    return L\n",
        "\n",
        "append4()"
      ]
    },
    {
      "cell_type": "code",
      "execution_count": 74,
      "metadata": {
        "id": "38i3oE9JKhZ1",
        "colab": {
          "base_uri": "https://localhost:8080/"
        },
        "outputId": "2049b9f2-f881-4a76-f782-2ec036c17c02"
      },
      "outputs": [
        {
          "output_type": "execute_result",
          "data": {
            "text/plain": [
              "[1, 2, 3, 4]"
            ]
          },
          "metadata": {},
          "execution_count": 74
        }
      ],
      "source": [
        "L"
      ]
    },
    {
      "cell_type": "code",
      "execution_count": 75,
      "metadata": {
        "id": "V0STK6hgKhZ1",
        "colab": {
          "base_uri": "https://localhost:8080/",
          "height": 35
        },
        "outputId": "cc1dc7dd-f665-48d5-e76c-5e51eb56b93d"
      },
      "outputs": [
        {
          "output_type": "execute_result",
          "data": {
            "text/plain": [
              "'This is X'"
            ],
            "application/vnd.google.colaboratory.intrinsic+json": {
              "type": "string"
            }
          },
          "metadata": {},
          "execution_count": 75
        }
      ],
      "source": [
        "L = [1, 2, 3]\n",
        "\n",
        "def transform_L_into_X():\n",
        "    X = \"This is X\"\n",
        "    L = X\n",
        "    return L\n",
        "\n",
        "transform_L_into_X()"
      ]
    },
    {
      "cell_type": "code",
      "execution_count": 76,
      "metadata": {
        "id": "QpNyLq1sKhZ1",
        "colab": {
          "base_uri": "https://localhost:8080/"
        },
        "outputId": "46f155b7-a080-48ca-8f5d-ca72d29fc187"
      },
      "outputs": [
        {
          "output_type": "execute_result",
          "data": {
            "text/plain": [
              "[1, 2, 3]"
            ]
          },
          "metadata": {},
          "execution_count": 76
        }
      ],
      "source": [
        "L"
      ]
    },
    {
      "cell_type": "markdown",
      "metadata": {
        "id": "F2EgGqYwKhZ1"
      },
      "source": [
        "#### The global statement"
      ]
    },
    {
      "cell_type": "code",
      "execution_count": 77,
      "metadata": {
        "id": "b0V8mYwbKhZ1",
        "colab": {
          "base_uri": "https://localhost:8080/"
        },
        "outputId": "8fe7a4e1-2c83-4f1c-9d8d-c62fa978a899"
      },
      "outputs": [
        {
          "output_type": "stream",
          "name": "stdout",
          "text": [
            "99\n"
          ]
        }
      ],
      "source": [
        "X = 88                         # Global X\n",
        "\n",
        "def func():\n",
        "    global X\n",
        "    X = 99                     # Global X: outside def\n",
        "    print(X)\n",
        "\n",
        "func()"
      ]
    },
    {
      "cell_type": "code",
      "execution_count": 78,
      "metadata": {
        "id": "uWB7RXzNKhZ1",
        "colab": {
          "base_uri": "https://localhost:8080/"
        },
        "outputId": "37e2d9c5-25c4-4ee2-89e2-a8b6689f5fa3"
      },
      "outputs": [
        {
          "output_type": "execute_result",
          "data": {
            "text/plain": [
              "99"
            ]
          },
          "metadata": {},
          "execution_count": 78
        }
      ],
      "source": [
        "X"
      ]
    },
    {
      "cell_type": "markdown",
      "metadata": {
        "id": "dk4boxILKhZ2"
      },
      "source": [
        "Minimize globals! What is the value of x here? It depends on where you ask during running time, and that's confusing and prone to errors."
      ]
    },
    {
      "cell_type": "markdown",
      "metadata": {
        "id": "uC-rBzxKKhZ2"
      },
      "source": [
        "Some more tips for using functions:\n",
        "\n",
        "- each function should have a single, unified purpose.\n",
        "\n",
        "- each function should be relatively small"
      ]
    }
  ],
  "metadata": {
    "kernelspec": {
      "display_name": "Python 3",
      "language": "python",
      "name": "python3"
    },
    "language_info": {
      "codemirror_mode": {
        "name": "ipython",
        "version": 3
      },
      "file_extension": ".py",
      "mimetype": "text/x-python",
      "name": "python",
      "nbconvert_exporter": "python",
      "pygments_lexer": "ipython3",
      "version": "3.8.5"
    },
    "toc": {
      "base_numbering": 1,
      "nav_menu": {},
      "number_sections": true,
      "sideBar": true,
      "skip_h1_title": false,
      "title_cell": "Table of Contents",
      "title_sidebar": "Contents",
      "toc_cell": false,
      "toc_position": {},
      "toc_section_display": true,
      "toc_window_display": false
    },
    "varInspector": {
      "cols": {
        "lenName": 16,
        "lenType": 16,
        "lenVar": 40
      },
      "kernels_config": {
        "python": {
          "delete_cmd_postfix": "",
          "delete_cmd_prefix": "del ",
          "library": "var_list.py",
          "varRefreshCmd": "print(var_dic_list())"
        },
        "r": {
          "delete_cmd_postfix": ") ",
          "delete_cmd_prefix": "rm(",
          "library": "var_list.r",
          "varRefreshCmd": "cat(var_dic_list()) "
        }
      },
      "types_to_exclude": [
        "module",
        "function",
        "builtin_function_or_method",
        "instance",
        "_Feature"
      ],
      "window_display": false
    },
    "colab": {
      "provenance": [],
      "collapsed_sections": [
        "kQ-KBaxhKhZx"
      ]
    }
  },
  "nbformat": 4,
  "nbformat_minor": 0
}